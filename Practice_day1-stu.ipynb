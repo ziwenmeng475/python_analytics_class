{
 "cells": [
  {
   "cell_type": "markdown",
   "metadata": {},
   "source": [
    "### Practice1.1"
   ]
  },
  {
   "cell_type": "code",
   "execution_count": 2,
   "metadata": {},
   "outputs": [
    {
     "name": "stdout",
     "output_type": "stream",
     "text": [
      "Answer to the calculation with 7 decimal places is: 3.1415929\n"
     ]
    }
   ],
   "source": [
    "#1. Use 355 divided by 113 and print \"Answer to the calculation with 7 decimal places is: \"\n"
   ]
  },
  {
   "cell_type": "code",
   "execution_count": 3,
   "metadata": {},
   "outputs": [
    {
     "name": "stdout",
     "output_type": "stream",
     "text": [
      "e to 10 decimal places: 2.7182818285\n"
     ]
    }
   ],
   "source": [
    "import math\n",
    "e = math.e\n",
    "#2. Now print \"e to 10 decimal places: \", followed by the\n",
    "#numerical value of e out to 10 decimal places, using\n",
    "#string formatting and e, defined above\n"
   ]
  },
  {
   "cell_type": "code",
   "execution_count": null,
   "metadata": {},
   "outputs": [],
   "source": [
    "#3. The first paragraph of UoT Wikipedia article:\n",
    "wiki_intro = \"The University of Toronto (U of T, or UToronto) is a public research university in Toronto,\"\\\n",
    "            \" Ontario, Canada, located on the grounds that surround Queen's Park. It was founded by royal\"\\\n",
    "            \"charter in 1827 as King's College, the first institution of higher learning in the colony of Upper Canada\"\n",
    "#set xyz to equal the 71th through 73th characters\n",
    "#of the wiki_intro string. Note that wiki_intro uses linebreaks\n",
    "#(backslashes \\) to make this long string easier to read. The\n",
    "#linebreaks don't count as a character in the string"
   ]
  },
  {
   "cell_type": "code",
   "execution_count": null,
   "metadata": {},
   "outputs": [],
   "source": [
    "#4. set wiki_intro_nospaces to equal wiki_intro, but with *ALL* of\n",
    "#the spaces removed"
   ]
  },
  {
   "cell_type": "code",
   "execution_count": null,
   "metadata": {},
   "outputs": [],
   "source": []
  },
  {
   "cell_type": "code",
   "execution_count": null,
   "metadata": {},
   "outputs": [],
   "source": [
    "#5. remember we have errors when trying to float('$135.20'). \n",
    "#use replace method to solve this and convert '135.20' to float"
   ]
  },
  {
   "cell_type": "code",
   "execution_count": null,
   "metadata": {},
   "outputs": [],
   "source": [
    "#6. \n",
    "superprime = False\n",
    "long_standing_customer = True\n",
    "large_down_payment = True\n",
    "#Set 'mortgage_approved' equal to true when 'superprime'\n",
    "#is True *or* when both 'long_standing_customer'\n",
    "#and 'large_down_payment' are True.\n"
   ]
  },
  {
   "cell_type": "code",
   "execution_count": 1,
   "metadata": {},
   "outputs": [],
   "source": [
    "#7 \n",
    "FICO = 712\n",
    "\n",
    "#Set credit_description = \"good\" if FICO is greater than or\n",
    "#equal to 700, credit_description = \"ok\" if FICO is less than\n",
    "#700 but greater than or equal to 600, and\n",
    "#credit_description = \"bad\" if FICO is less than 600"
   ]
  }
 ],
 "metadata": {
  "kernelspec": {
   "display_name": "Python 3",
   "language": "python",
   "name": "python3"
  },
  "language_info": {
   "codemirror_mode": {
    "name": "ipython",
    "version": 3
   },
   "file_extension": ".py",
   "mimetype": "text/x-python",
   "name": "python",
   "nbconvert_exporter": "python",
   "pygments_lexer": "ipython3",
   "version": "3.7.3"
  }
 },
 "nbformat": 4,
 "nbformat_minor": 2
}
